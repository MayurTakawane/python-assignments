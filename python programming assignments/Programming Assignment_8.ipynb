{
 "cells": [
  {
   "attachments": {},
   "cell_type": "markdown",
   "metadata": {},
   "source": [
    "1. Write a Python Program to Add Two Matrices?"
   ]
  },
  {
   "cell_type": "code",
   "execution_count": 10,
   "metadata": {},
   "outputs": [
    {
     "name": "stdout",
     "output_type": "stream",
     "text": [
      "Enter the First Matrix\n",
      "Enter the second Matrix\n",
      "First Matrix  [[1, 2, 3], [4, 5, 6], [1, 2, 3]] \n",
      "Second Matrix [[7, 5, 6], [4, 1, 2], [3, 5, 2]] \n",
      "Addiition     [[8, 7, 9], [8, 6, 8], [4, 7, 5]]\n"
     ]
    }
   ],
   "source": [
    "def getMatrix(row,col):\n",
    "    matrix = []\n",
    "    for i in range(row):\n",
    "        row = []\n",
    "        for j in range(col):\n",
    "            element = int(input(f\"Enter mat[{i}][{j}]\"))\n",
    "            row.append(element)\n",
    "        matrix.append(row)\n",
    "\n",
    "    return matrix\n",
    "\n",
    "def sumOfTwoMatrix(a,b,row,col):\n",
    "    c = []\n",
    "    for i in range(row):\n",
    "        row = []\n",
    "        for j in range(col):\n",
    "            addition = a[i][j] + b[i][j]\n",
    "            row.append(addition)\n",
    "        c.append(row)\n",
    "\n",
    "    return c\n",
    "\n",
    "row = int(input(\"Enter the value of rows\"))\n",
    "col = int(input(\"Enter the value of col\"))\n",
    "\n",
    "print(\"Enter the First Matrix\")\n",
    "a = getMatrix(row,col)\n",
    "\n",
    "print(\"Enter the second Matrix\")\n",
    "b = getMatrix(row,col)\n",
    "\n",
    "ans = sumOfTwoMatrix(a,b,row,col)\n",
    "print(f\"First Matrix  {a} \\nSecond Matrix {b} \\nAddiition     {ans}\")\n"
   ]
  },
  {
   "attachments": {},
   "cell_type": "markdown",
   "metadata": {},
   "source": [
    "2. Write a Python Program to Multiply Two Matrices?"
   ]
  },
  {
   "cell_type": "code",
   "execution_count": 12,
   "metadata": {},
   "outputs": [
    {
     "name": "stdout",
     "output_type": "stream",
     "text": [
      "Enter the first Matrix\n",
      "Enter the second Matrix\n",
      "a    =    [[2, 3, 4], [5, 2, 6], [2, 5, 4]]\n",
      "b    =    [[2, 3, 4], [2, 6, 1], [5, 2, 3]]\n",
      "Product = [[4, 9, 16], [10, 12, 6], [10, 10, 12]]\n"
     ]
    }
   ],
   "source": [
    "def multiplicationOfmatrix(a,b,row,col):\n",
    "    c = []\n",
    "    for i in range(row):\n",
    "        row = []\n",
    "        for j in range(col):\n",
    "            product = a[i][j] * b[i][j]\n",
    "            row.append(product)\n",
    "        c.append(row)\n",
    "    return c\n",
    "            \n",
    "def getMatrix(row,col):\n",
    "    matrix = []\n",
    "    for i in range(row):\n",
    "        row = []\n",
    "        for j in range(col):\n",
    "            element = int(input(f\"Enter mat[{i}][{j}]\"))\n",
    "            row.append(element)\n",
    "        matrix.append(row)\n",
    "\n",
    "    return matrix\n",
    "\n",
    "row = int(input(\"Enter the value of rows\"))\n",
    "col = int(input(\"Enter the value of col\"))\n",
    "\n",
    "print(\"Enter the first Matrix\")\n",
    "a = getMatrix(row,col)\n",
    "\n",
    "print(\"Enter the second Matrix\")\n",
    "b = getMatrix(row,col)\n",
    "\n",
    "ans = multiplicationOfmatrix(a,b,row,col)\n",
    "print(f\"a    =    {a}\\nb    =    {b}\\nProduct = {ans}\")"
   ]
  },
  {
   "attachments": {},
   "cell_type": "markdown",
   "metadata": {},
   "source": [
    "3. Write a Python Program to Transpose a Matrix?"
   ]
  },
  {
   "cell_type": "code",
   "execution_count": 1,
   "metadata": {},
   "outputs": [
    {
     "name": "stdout",
     "output_type": "stream",
     "text": [
      "Original Matrix\n",
      "[[1, 2, 3], [4, 5, 6], [7, 8, 9]]\n",
      "Transpose Matrix\n",
      "[[1, 4, 7], [2, 5, 8], [3, 6, 9]]\n"
     ]
    }
   ],
   "source": [
    "def transpose(matrix):\n",
    "    col = len(matrix[0])\n",
    "    row = len(matrix)\n",
    "\n",
    "    result = []\n",
    "    for i in range(col):\n",
    "        line = []\n",
    "        for j in range(row):\n",
    "            line.append(matrix[j][i])\n",
    "        result.append(line)\n",
    "    return result\n",
    "\n",
    "matrix = [[1,2,3],\n",
    "          [4,5,6],\n",
    "          [7,8,9],]\n",
    "\n",
    "print(\"Original Matrix\")\n",
    "print(matrix)\n",
    "t = transpose(matrix)\n",
    "print(\"Transpose Matrix\")\n",
    "print(t)\n"
   ]
  },
  {
   "attachments": {},
   "cell_type": "markdown",
   "metadata": {},
   "source": [
    "4. Write a Python Program to Sort Words in Alphabetic Order?"
   ]
  },
  {
   "cell_type": "code",
   "execution_count": 2,
   "metadata": {},
   "outputs": [
    {
     "name": "stdout",
     "output_type": "stream",
     "text": [
      "['mango', 'grapes', 'apple', 'watermelon', 'peach']\n"
     ]
    }
   ],
   "source": [
    "words = [\"mango\",\"grapes\",\"apple\",\"watermelon\",\"peach\"]\n",
    "print(words)"
   ]
  },
  {
   "attachments": {},
   "cell_type": "markdown",
   "metadata": {},
   "source": [
    "5. Write a Python Program to remove Punctuations From a String ?"
   ]
  },
  {
   "cell_type": "code",
   "execution_count": 3,
   "metadata": {},
   "outputs": [
    {
     "name": "stdout",
     "output_type": "stream",
     "text": [
      "i'm, learning data science ?\n",
      "im learning data science \n"
     ]
    }
   ],
   "source": [
    "def removePunctuatuions():\n",
    "    punctuations = '''!()-[]{};:'\"\\,<>./?@#$%^&*_~'''\n",
    "    in_string = input('Enter a String: ')\n",
    "    print(in_string)\n",
    "    out_string = ''\n",
    "    for ele in in_string:\n",
    "        if ele not in punctuations:\n",
    "            out_string += ele\n",
    "    print(out_string)\n",
    "    \n",
    "removePunctuatuions()"
   ]
  }
 ],
 "metadata": {
  "kernelspec": {
   "display_name": "Python 3",
   "language": "python",
   "name": "python3"
  },
  "language_info": {
   "codemirror_mode": {
    "name": "ipython",
    "version": 3
   },
   "file_extension": ".py",
   "mimetype": "text/x-python",
   "name": "python",
   "nbconvert_exporter": "python",
   "pygments_lexer": "ipython3",
   "version": "3.11.0"
  },
  "orig_nbformat": 4,
  "vscode": {
   "interpreter": {
    "hash": "b90b576a69395e5cbc7dee914341f761ef0db4c9db0c32a646e37c607340e8d9"
   }
  }
 },
 "nbformat": 4,
 "nbformat_minor": 2
}
