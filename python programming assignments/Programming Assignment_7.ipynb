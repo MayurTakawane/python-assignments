{
 "cells": [
  {
   "attachments": {},
   "cell_type": "markdown",
   "metadata": {},
   "source": [
    "1.Write a Python Program to find sum of array?"
   ]
  },
  {
   "cell_type": "code",
   "execution_count": 11,
   "metadata": {},
   "outputs": [
    {
     "name": "stdout",
     "output_type": "stream",
     "text": [
      "Sum of array [1, 2, 3, 4, 5] is 15\n"
     ]
    }
   ],
   "source": [
    "def sumOfArray(l):\n",
    "    sum = 0\n",
    "    for i in range(len(l)):\n",
    "        sum = sum + l[i]\n",
    "    return sum\n",
    "\n",
    "\n",
    "l = []\n",
    "n = int(input(\"Enter number of elements in the array : \"))\n",
    "\n",
    "for i in range(n):\n",
    "    element = int(input(f\"Enter element No-{i+1} : \"))\n",
    "    l.append(element)\n",
    "\n",
    "sum = sumOfArray(l)\n",
    "print(f\"Sum of array {l} is {sum}\")"
   ]
  },
  {
   "attachments": {},
   "cell_type": "markdown",
   "metadata": {},
   "source": [
    "2.Write a Python Program to find largest element in an array?"
   ]
  },
  {
   "cell_type": "code",
   "execution_count": 14,
   "metadata": {},
   "outputs": [
    {
     "name": "stdout",
     "output_type": "stream",
     "text": [
      "Largest element in array [-10, 8, 90, -14, 98] is 98\n"
     ]
    }
   ],
   "source": [
    "def largestElementInArray(l):\n",
    "    ans = l[0]\n",
    "\n",
    "    for i in range(1,len(l)):\n",
    "        if ans < l[i]:\n",
    "            ans = l[i]\n",
    "\n",
    "    return ans\n",
    "\n",
    "\n",
    "l = []\n",
    "n = int(input(\"Enter number of elements in the array : \"))\n",
    "\n",
    "for i in range(n):\n",
    "    element = int(input(f\"Enter element No-{i+1} : \"))\n",
    "    l.append(element)\n",
    "\n",
    "largest = largestElementInArray(l)\n",
    "print(f\"Largest element in array {l} is {largest}\")"
   ]
  },
  {
   "attachments": {},
   "cell_type": "markdown",
   "metadata": {},
   "source": [
    "3.Write a Python Program for array rotation?"
   ]
  },
  {
   "cell_type": "code",
   "execution_count": 17,
   "metadata": {},
   "outputs": [
    {
     "name": "stdout",
     "output_type": "stream",
     "text": [
      "Array before reversing :  [10, 20, 30, 40, 50, 60, 70, 80, 90, 100]\n",
      "Array after reversing :  [100, 90, 80, 70, 60, 50, 40, 30, 20, 10]\n"
     ]
    }
   ],
   "source": [
    "def reverseArray(l):\n",
    "    start = 0\n",
    "    end = len(l) - 1\n",
    "\n",
    "    while(start <= end):\n",
    "        temp = l[start]\n",
    "        l[start] = l[end]\n",
    "        l[end] = temp\n",
    "\n",
    "        start = start + 1\n",
    "        end = end - 1\n",
    "\n",
    "l = []\n",
    "n = int(input(\"Enter number of elements in the array : \"))\n",
    "\n",
    "for i in range(n):\n",
    "    element = int(input(f\"Enter element No-{i+1} : \"))\n",
    "    l.append(element)\n",
    "\n",
    "print(\"Array before reversing : \",l)\n",
    "reverseArray(l)\n",
    "print(\"Array after reversing : \",l)\n"
   ]
  },
  {
   "attachments": {},
   "cell_type": "markdown",
   "metadata": {},
   "source": [
    "4.Write a Python Program to Split the array and add the first part to the end?"
   ]
  },
  {
   "cell_type": "code",
   "execution_count": 30,
   "metadata": {},
   "outputs": [
    {
     "name": "stdout",
     "output_type": "stream",
     "text": [
      "[1, 2, 3, 4, 5, 6, 7, 8, 9, 10]\n",
      "[6, 7, 8, 9, 10, 1, 2, 3, 4, 5]\n"
     ]
    }
   ],
   "source": [
    "def splitArr(arr, n, k):\n",
    "    for i in range(0, k):\n",
    "        x = arr[0]\n",
    "        for j in range(0, n-1):\n",
    "            arr[j] = arr[j + 1]\n",
    "         \n",
    "        arr[n-1] = x\n",
    "\n",
    "arr = []\n",
    "n = int(input(\"Enter number of elements in the array : \"))\n",
    "\n",
    "for i in range(n):\n",
    "    element = int(input(f\"Enter element No-{i+1} : \"))\n",
    "    arr.append(element)\n",
    "\n",
    "print(arr)\n",
    "splitArr(arr,n,n//2)\n",
    "print(arr)"
   ]
  },
  {
   "attachments": {},
   "cell_type": "markdown",
   "metadata": {},
   "source": [
    "5.Write a Python Program to check if given array is Monotonic ?"
   ]
  },
  {
   "cell_type": "code",
   "execution_count": 32,
   "metadata": {},
   "outputs": [
    {
     "name": "stdout",
     "output_type": "stream",
     "text": [
      "Array [1, 2, 3, 4, 5] is Monotonic\n",
      "Array [4, 7, 3, 2, 7] is Not Monotonic\n"
     ]
    }
   ],
   "source": [
    "def checkMonotonic():\n",
    "    in_arr = eval(input(\"Enter the Array: \"))\n",
    "    if(all(in_arr[i]<=in_arr[i+1] for i in range(len(in_arr)-1)) or all(in_arr[i]>=in_arr[i+1] for i in range(len(in_arr)-1))):\n",
    "        print(f'Array {in_arr} is Monotonic')\n",
    "    else:\n",
    "        print(f'Array {in_arr} is Not Monotonic')\n",
    "\n",
    "checkMonotonic()\n",
    "checkMonotonic()"
   ]
  }
 ],
 "metadata": {
  "kernelspec": {
   "display_name": "Python 3",
   "language": "python",
   "name": "python3"
  },
  "language_info": {
   "codemirror_mode": {
    "name": "ipython",
    "version": 3
   },
   "file_extension": ".py",
   "mimetype": "text/x-python",
   "name": "python",
   "nbconvert_exporter": "python",
   "pygments_lexer": "ipython3",
   "version": "3.11.0"
  },
  "orig_nbformat": 4,
  "vscode": {
   "interpreter": {
    "hash": "b90b576a69395e5cbc7dee914341f761ef0db4c9db0c32a646e37c607340e8d9"
   }
  }
 },
 "nbformat": 4,
 "nbformat_minor": 2
}
