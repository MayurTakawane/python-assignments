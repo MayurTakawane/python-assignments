{
 "cells": [
  {
   "cell_type": "code",
   "execution_count": null,
   "metadata": {},
   "outputs": [],
   "source": [
    "'''\n",
    "Assignment 3\n",
    "\n",
    "1. Why are functions advantageous to have in your programs?\n",
    "--> 1.Use of functions enhances the readability of a program\n",
    "    2.Functions stop us from writing the same logic various times. We can bind the logic in one def and then call the same over and over\n",
    "    3.Many persons can work on the same program by assigning different methods to each of them.\n",
    "\n",
    "2. When does the code in a function run: when it's specified or when it's called?\n",
    "--> when the function is called\n",
    "\n",
    "3. What statement creates a function?\n",
    "--> The keyword \"def\" creates a funciton\n",
    "\n",
    "4. What is the difference between a function and a function call?\n",
    "--> eg:\n",
    "    def squareOf(number):  #This is a function \n",
    "        return number * number\n",
    "    \n",
    "    a = squareOf(2) #This is a function call\n",
    "    print(a)\n",
    "    Output --> 4\n",
    "\n",
    "5. How many global scopes are there in a Python program? How many local scopes?\n",
    "    --> In a Python program, there is only one global scope. The global scope is created when the program starts, and it contains all of the variables that are defined at the top level of the program\n",
    "\n",
    "    Global Scope:\n",
    "    A variable declared in the global scope is available everywhere in the main Python program.\n",
    "\n",
    "    The Local Scope:\n",
    "    Variables declared in local scopes are only available within that scope. Local scopes include variables declared inside functions and classes.\n",
    "\n",
    "6. What happens to variables in a local scope when the function call returns?\n",
    "--> When the execution of the function terminates (returns), the local variables are destroyed.\n",
    "\n",
    "7. What is the concept of a return value? Is it possible to have a return value in an expression?\n",
    "--> A python function can return a specified value anywhere within that function by using a return statement, which ends the function under execution and then returns a value to the caller.\n",
    "\n",
    "8. If a function does not have a return statement, what is the return value of a call to that function?\n",
    "--> If a function doesn't specify a return value, it returns None\n",
    "\n",
    "9. How do you make a function variable refer to the global variable?\n",
    "--> If you want to refer to a global variable in a function, you can use the global keyword to declare which variables are global.\n",
    "\n",
    "10. What is the data type of None?\n",
    "--> NoneType is a type of a None Object in Python. The None keyword is an object, a data type of the class NoneType\n",
    "\n",
    "11. What does the sentence import areallyourpetsnamederic do?\n",
    "--> That import statement imports a module named areallyourpetsnamederic.\n",
    "\n",
    "12. If you had a bacon() feature in a spam module, what would you call it after importing spam?\n",
    "--> If we have bacon() funtion in spam module then first we need to import the module and then we need to import the funtion too. from spam import bacon This above code is used to import funtions from given module. And then we can use the imported funtion for our own utilities.\n",
    "\n",
    "13. What can you do to save a programme from crashing if it encounters an error?\n",
    "--> use try and except clause\n",
    "\n",
    "14. What is the purpose of the try clause? What is the purpose of the except clause?\n",
    "--> Try and Except statement is used to handle these errors within our code in Python. The try block is used to check some code for errors i.e the code inside the try block will execute when there is no error in the program. Whereas the code inside the except block will execute whenever the program encounters some error in the preceding try block.\n",
    "\n",
    "'''"
   ]
  }
 ],
 "metadata": {
  "kernelspec": {
   "display_name": "Python 3",
   "language": "python",
   "name": "python3"
  },
  "language_info": {
   "name": "python",
   "version": "3.11.0 (main, Oct 24 2022, 18:26:48) [MSC v.1933 64 bit (AMD64)]"
  },
  "orig_nbformat": 4,
  "vscode": {
   "interpreter": {
    "hash": "b90b576a69395e5cbc7dee914341f761ef0db4c9db0c32a646e37c607340e8d9"
   }
  }
 },
 "nbformat": 4,
 "nbformat_minor": 2
}
